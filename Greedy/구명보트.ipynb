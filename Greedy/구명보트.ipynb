{
 "cells": [
  {
   "cell_type": "markdown",
   "metadata": {},
   "source": [
    "__문제 설명__\n",
    "\n",
    "무인도에 갇힌 사람들을 구명보트를 이용하여 구출하려고 합니다. 구명보트는 작아서 한 번에 최대 2명씩 밖에 탈 수 없고, 무게 제한도 있습니다.\n",
    "\n",
    "예를 들어, 사람들의 몸무게가 [70kg, 50kg, 80kg, 50kg]이고 구명보트의 무게 제한이 100kg이라면 2번째 사람과 4번째 사람은 같이 탈 수 있지만 1번째 사람과 3번째 사람의 무게의 합은 150kg이므로 구명보트의 무게 제한을 초과하여 같이 탈 수 없습니다.\n",
    "\n",
    "구명보트를 최대한 적게 사용하여 모든 사람을 구출하려고 합니다.\n",
    "\n",
    "사람들의 몸무게를 담은 배열 people과 구명보트의 무게 제한 limit가 매개변수로 주어질 때, 모든 사람을 구출하기 위해 필요한 구명보트 개수의 최솟값을 return 하도록 solution 함수를 작성해주세요.\n",
    "\n",
    "__제한사항__\n",
    "\n",
    "무인도에 갇힌 사람은 1명 이상 50,000명 이하입니다.\n",
    "각 사람의 몸무게는 40kg 이상 240kg 이하입니다.\n",
    "구명보트의 무게 제한은 40kg 이상 240kg 이하입니다.\n",
    "구명보트의 무게 제한은 항상 사람들의 몸무게 중 최댓값보다 크게 주어지므로 사람들을 구출할 수 없는 경우는 없습니다."
   ]
  },
  {
   "cell_type": "code",
   "execution_count": 24,
   "metadata": {},
   "outputs": [
    {
     "name": "stdout",
     "output_type": "stream",
     "text": [
      "[10, 40, 50, 50, 60, 60, 70, 70, 70, 80]\n",
      "s_idx 9 answer 0\n",
      "5\n"
     ]
    }
   ],
   "source": [
    "def ans_counting(people, limit):\n",
    "    front = 0\n",
    "    rear = len(people)-1\n",
    "    count = 0\n",
    "    while front < rear:\n",
    "        if people[front] + people[rear] <= limit:\n",
    "            count += 1\n",
    "            front += 1\n",
    "            rear -= 1\n",
    "        else:\n",
    "            rear -= 1\n",
    "\n",
    "    return count\n",
    "\n",
    "def solution(people, limit):\n",
    "    people.sort()\n",
    "    idx = 0\n",
    "    answer = 0\n",
    "    count = startpoint(people, limit)\n",
    "    answer = count + (len(people) - 2*count)\n",
    "    \n",
    "    return answer\n",
    "if __name__ == \"__main__\":\n",
    "    people = [70, 50, 80, 60, 10, 40, 60, 70, 70, 50]\n",
    "    limit = 100\n",
    "    answer = solution(people, limit)\n",
    "    print(answer)"
   ]
  }
 ],
 "metadata": {
  "kernelspec": {
   "display_name": "Python 3",
   "language": "python",
   "name": "python3"
  },
  "language_info": {
   "codemirror_mode": {
    "name": "ipython",
    "version": 3
   },
   "file_extension": ".py",
   "mimetype": "text/x-python",
   "name": "python",
   "nbconvert_exporter": "python",
   "pygments_lexer": "ipython3",
   "version": "3.7.3"
  }
 },
 "nbformat": 4,
 "nbformat_minor": 2
}
